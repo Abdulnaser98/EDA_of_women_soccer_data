{
 "cells": [
  {
   "cell_type": "code",
   "execution_count": 2,
   "metadata": {},
   "outputs": [],
   "source": [
    "import numpy as np\n",
    "import pandas as pd\n",
    "import seaborn as sns\n",
    "import matplotlib.pyplot as plt"
   ]
  },
  {
   "cell_type": "code",
   "execution_count": 3,
   "metadata": {
    "scrolled": true
   },
   "outputs": [
    {
     "data": {
      "text/html": [
       "<div>\n",
       "<style scoped>\n",
       "    .dataframe tbody tr th:only-of-type {\n",
       "        vertical-align: middle;\n",
       "    }\n",
       "\n",
       "    .dataframe tbody tr th {\n",
       "        vertical-align: top;\n",
       "    }\n",
       "\n",
       "    .dataframe thead th {\n",
       "        text-align: right;\n",
       "    }\n",
       "</style>\n",
       "<table border=\"1\" class=\"dataframe\">\n",
       "  <thead>\n",
       "    <tr style=\"text-align: right;\">\n",
       "      <th></th>\n",
       "      <th>date</th>\n",
       "      <th>home_team</th>\n",
       "      <th>away_team</th>\n",
       "      <th>home_score</th>\n",
       "      <th>away_score</th>\n",
       "      <th>tournament</th>\n",
       "      <th>city</th>\n",
       "      <th>country</th>\n",
       "      <th>neutral</th>\n",
       "    </tr>\n",
       "  </thead>\n",
       "  <tbody>\n",
       "    <tr>\n",
       "      <th>0</th>\n",
       "      <td>1969-11-01</td>\n",
       "      <td>Italy</td>\n",
       "      <td>France</td>\n",
       "      <td>1</td>\n",
       "      <td>0</td>\n",
       "      <td>Euro</td>\n",
       "      <td>Novara</td>\n",
       "      <td>Italy</td>\n",
       "      <td>False</td>\n",
       "    </tr>\n",
       "    <tr>\n",
       "      <th>1</th>\n",
       "      <td>1969-11-01</td>\n",
       "      <td>Denmark</td>\n",
       "      <td>England</td>\n",
       "      <td>4</td>\n",
       "      <td>3</td>\n",
       "      <td>Euro</td>\n",
       "      <td>Aosta</td>\n",
       "      <td>Italy</td>\n",
       "      <td>True</td>\n",
       "    </tr>\n",
       "    <tr>\n",
       "      <th>2</th>\n",
       "      <td>1969-11-02</td>\n",
       "      <td>England</td>\n",
       "      <td>France</td>\n",
       "      <td>2</td>\n",
       "      <td>0</td>\n",
       "      <td>Euro</td>\n",
       "      <td>Turin</td>\n",
       "      <td>Italy</td>\n",
       "      <td>True</td>\n",
       "    </tr>\n",
       "    <tr>\n",
       "      <th>3</th>\n",
       "      <td>1969-11-02</td>\n",
       "      <td>Italy</td>\n",
       "      <td>Denmark</td>\n",
       "      <td>3</td>\n",
       "      <td>1</td>\n",
       "      <td>Euro</td>\n",
       "      <td>Turin</td>\n",
       "      <td>Italy</td>\n",
       "      <td>False</td>\n",
       "    </tr>\n",
       "    <tr>\n",
       "      <th>4</th>\n",
       "      <td>1975-08-25</td>\n",
       "      <td>Thailand</td>\n",
       "      <td>Australia</td>\n",
       "      <td>3</td>\n",
       "      <td>2</td>\n",
       "      <td>AFC Championship</td>\n",
       "      <td>Hong Kong</td>\n",
       "      <td>Hong Kong</td>\n",
       "      <td>True</td>\n",
       "    </tr>\n",
       "  </tbody>\n",
       "</table>\n",
       "</div>"
      ],
      "text/plain": [
       "         date home_team  away_team  home_score  away_score        tournament  \\\n",
       "0  1969-11-01     Italy     France           1           0              Euro   \n",
       "1  1969-11-01   Denmark    England           4           3              Euro   \n",
       "2  1969-11-02   England     France           2           0              Euro   \n",
       "3  1969-11-02     Italy    Denmark           3           1              Euro   \n",
       "4  1975-08-25  Thailand  Australia           3           2  AFC Championship   \n",
       "\n",
       "        city    country  neutral  \n",
       "0     Novara      Italy    False  \n",
       "1      Aosta      Italy     True  \n",
       "2      Turin      Italy     True  \n",
       "3      Turin      Italy    False  \n",
       "4  Hong Kong  Hong Kong     True  "
      ]
     },
     "execution_count": 3,
     "metadata": {},
     "output_type": "execute_result"
    }
   ],
   "source": [
    "df=pd.read_csv('data/results.csv')\n",
    "df.head()"
   ]
  },
  {
   "cell_type": "code",
   "execution_count": 4,
   "metadata": {},
   "outputs": [],
   "source": [
    "df['date']=pd.to_datetime(df['date'])"
   ]
  },
  {
   "cell_type": "markdown",
   "metadata": {},
   "source": [
    "### 1. Welche Länder waren die ersten, in denen Frauenteams gegründet wurden?"
   ]
  },
  {
   "cell_type": "code",
   "execution_count": 29,
   "metadata": {},
   "outputs": [
    {
     "data": {
      "text/html": [
       "<div>\n",
       "<style scoped>\n",
       "    .dataframe tbody tr th:only-of-type {\n",
       "        vertical-align: middle;\n",
       "    }\n",
       "\n",
       "    .dataframe tbody tr th {\n",
       "        vertical-align: top;\n",
       "    }\n",
       "\n",
       "    .dataframe thead th {\n",
       "        text-align: right;\n",
       "    }\n",
       "</style>\n",
       "<table border=\"1\" class=\"dataframe\">\n",
       "  <thead>\n",
       "    <tr style=\"text-align: right;\">\n",
       "      <th></th>\n",
       "      <th>team</th>\n",
       "      <th>date</th>\n",
       "    </tr>\n",
       "  </thead>\n",
       "  <tbody>\n",
       "    <tr>\n",
       "      <th>49</th>\n",
       "      <td>Denmark</td>\n",
       "      <td>1969-11-01</td>\n",
       "    </tr>\n",
       "    <tr>\n",
       "      <th>66</th>\n",
       "      <td>France</td>\n",
       "      <td>1969-11-01</td>\n",
       "    </tr>\n",
       "    <tr>\n",
       "      <th>56</th>\n",
       "      <td>England</td>\n",
       "      <td>1969-11-01</td>\n",
       "    </tr>\n",
       "    <tr>\n",
       "      <th>93</th>\n",
       "      <td>Italy</td>\n",
       "      <td>1969-11-01</td>\n",
       "    </tr>\n",
       "    <tr>\n",
       "      <th>83</th>\n",
       "      <td>Hong Kong</td>\n",
       "      <td>1975-08-25</td>\n",
       "    </tr>\n",
       "    <tr>\n",
       "      <th>10</th>\n",
       "      <td>Australia</td>\n",
       "      <td>1975-08-25</td>\n",
       "    </tr>\n",
       "    <tr>\n",
       "      <th>181</th>\n",
       "      <td>Thailand</td>\n",
       "      <td>1975-08-25</td>\n",
       "    </tr>\n",
       "    <tr>\n",
       "      <th>132</th>\n",
       "      <td>New Zealand</td>\n",
       "      <td>1975-08-25</td>\n",
       "    </tr>\n",
       "    <tr>\n",
       "      <th>163</th>\n",
       "      <td>Singapore</td>\n",
       "      <td>1975-08-27</td>\n",
       "    </tr>\n",
       "    <tr>\n",
       "      <th>113</th>\n",
       "      <td>Malaysia</td>\n",
       "      <td>1975-08-27</td>\n",
       "    </tr>\n",
       "  </tbody>\n",
       "</table>\n",
       "</div>"
      ],
      "text/plain": [
       "            team       date\n",
       "49       Denmark 1969-11-01\n",
       "66        France 1969-11-01\n",
       "56       England 1969-11-01\n",
       "93         Italy 1969-11-01\n",
       "83     Hong Kong 1975-08-25\n",
       "10     Australia 1975-08-25\n",
       "181     Thailand 1975-08-25\n",
       "132  New Zealand 1975-08-25\n",
       "163    Singapore 1975-08-27\n",
       "113     Malaysia 1975-08-27"
      ]
     },
     "execution_count": 29,
     "metadata": {},
     "output_type": "execute_result"
    }
   ],
   "source": [
    "df2 = df.groupby('home_team')['date'].min().reset_index().set_axis(['team', 'date'], axis=1, inplace=False)\n",
    "df3 = df.groupby('away_team')['date'].min().reset_index().set_axis(['team', 'date'], axis=1, inplace=False)\n",
    "df4 = pd.concat([df2, df3])\n",
    "df4 = df4.groupby('team')['date'].min().reset_index()\n",
    "df4 = df4.sort_values(\"date\")\n",
    "df4.head(10)"
   ]
  },
  {
   "cell_type": "markdown",
   "metadata": {},
   "source": [
    "### 2. Wie hat sich die Anzahl der Frauenfußballteams verändert?\n",
    "Wie viele Nationen sind in jedem Jahr angetreten?"
   ]
  },
  {
   "cell_type": "code",
   "execution_count": 77,
   "metadata": {},
   "outputs": [
    {
     "data": {
      "text/plain": [
       "year\n",
       "1969      4\n",
       "1975      6\n",
       "1977      6\n",
       "1979     12\n",
       "1980      6\n",
       "1981      8\n",
       "1982     15\n",
       "1983     26\n",
       "1984      7\n",
       "1985     16\n",
       "1986     26\n",
       "1987     17\n",
       "1988     17\n",
       "1989     29\n",
       "1990     18\n",
       "1991     45\n",
       "1992     23\n",
       "1993     40\n",
       "1994     41\n",
       "1995     56\n",
       "1996     37\n",
       "1997     23\n",
       "1998     47\n",
       "1999     59\n",
       "2000     54\n",
       "2001     26\n",
       "2002     47\n",
       "2003     67\n",
       "2004     56\n",
       "2005     27\n",
       "2006    100\n",
       "2007     51\n",
       "2008     56\n",
       "2009     34\n",
       "2010     88\n",
       "2011     59\n",
       "2012     76\n",
       "2013     45\n",
       "2014     67\n",
       "2015     66\n",
       "2016     79\n",
       "2017     73\n",
       "2018    119\n",
       "2019     66\n",
       "2020     57\n",
       "2021     92\n",
       "2022     51\n",
       "Name: team, dtype: int64"
      ]
     },
     "execution_count": 77,
     "metadata": {},
     "output_type": "execute_result"
    }
   ],
   "source": [
    "df_home = df[[\"date\", \"home_team\"]].set_axis(['date', 'team'], axis=1, inplace=False)\n",
    "df_away =df[[\"date\", \"away_team\"]].set_axis(['date', 'team'], axis=1, inplace=False)\n",
    "df_teams = pd.concat([df_home, df_away])\n",
    "df_teams['year']=df_teams['date'].dt.year\n",
    "df_teams.sort_values(\"date\")\n",
    "teams_by_year = df_teams.groupby(\"year\")[\"team\"].nunique()\n",
    "teams_by_year"
   ]
  },
  {
   "cell_type": "code",
   "execution_count": 45,
   "metadata": {
    "collapsed": true
   },
   "outputs": [
    {
     "name": "stdout",
     "output_type": "stream",
     "text": [
      "Collecting pycountry-convert\n",
      "  Downloading pycountry_convert-0.7.2-py3-none-any.whl (13 kB)\n",
      "Requirement already satisfied: wheel>=0.30.0 in c:\\users\\bente\\anaconda3\\lib\\site-packages (from pycountry-convert) (0.34.2)\n",
      "Collecting pprintpp>=0.3.0\n",
      "  Downloading pprintpp-0.4.0-py2.py3-none-any.whl (16 kB)\n",
      "Collecting pytest-mock>=1.6.3\n",
      "  Downloading pytest_mock-3.10.0-py3-none-any.whl (9.3 kB)\n",
      "Requirement already satisfied: pytest>=3.4.0 in c:\\users\\bente\\anaconda3\\lib\\site-packages (from pycountry-convert) (5.3.5)\n",
      "Collecting pytest-cov>=2.5.1\n",
      "  Downloading pytest_cov-4.1.0-py3-none-any.whl (21 kB)\n",
      "Collecting repoze.lru>=0.7\n",
      "  Downloading repoze.lru-0.7-py3-none-any.whl (10 kB)\n",
      "Collecting pycountry>=16.11.27.1\n",
      "  Downloading pycountry-22.3.5.tar.gz (10.1 MB)\n",
      "  Installing build dependencies: started\n",
      "  Installing build dependencies: finished with status 'done'\n",
      "  Getting requirements to build wheel: started\n",
      "  Getting requirements to build wheel: finished with status 'done'\n",
      "    Preparing wheel metadata: started\n",
      "    Preparing wheel metadata: finished with status 'done'\n",
      "Requirement already satisfied: py>=1.5.0 in c:\\users\\bente\\anaconda3\\lib\\site-packages (from pytest>=3.4.0->pycountry-convert) (1.8.1)\n",
      "Requirement already satisfied: packaging in c:\\users\\bente\\anaconda3\\lib\\site-packages (from pytest>=3.4.0->pycountry-convert) (20.1)\n",
      "Requirement already satisfied: attrs>=17.4.0 in c:\\users\\bente\\anaconda3\\lib\\site-packages (from pytest>=3.4.0->pycountry-convert) (19.3.0)\n",
      "Requirement already satisfied: more-itertools>=4.0.0 in c:\\users\\bente\\anaconda3\\lib\\site-packages (from pytest>=3.4.0->pycountry-convert) (8.2.0)\n",
      "Requirement already satisfied: pluggy<1.0,>=0.12 in c:\\users\\bente\\anaconda3\\lib\\site-packages (from pytest>=3.4.0->pycountry-convert) (0.13.1)\n",
      "Requirement already satisfied: wcwidth in c:\\users\\bente\\anaconda3\\lib\\site-packages (from pytest>=3.4.0->pycountry-convert) (0.1.8)\n",
      "Requirement already satisfied: importlib-metadata>=0.12 in c:\\users\\bente\\anaconda3\\lib\\site-packages (from pytest>=3.4.0->pycountry-convert) (4.12.0)\n",
      "Requirement already satisfied: atomicwrites>=1.0 in c:\\users\\bente\\anaconda3\\lib\\site-packages (from pytest>=3.4.0->pycountry-convert) (1.3.0)\n",
      "Requirement already satisfied: colorama in c:\\users\\bente\\anaconda3\\lib\\site-packages (from pytest>=3.4.0->pycountry-convert) (0.4.3)\n",
      "Collecting coverage[toml]>=5.2.1\n",
      "  Downloading coverage-7.2.6-cp37-cp37m-win_amd64.whl (204 kB)\n",
      "Requirement already satisfied: setuptools in c:\\users\\bente\\anaconda3\\lib\\site-packages (from pycountry>=16.11.27.1->pycountry-convert) (45.2.0.post20200210)\n",
      "Requirement already satisfied: six in c:\\users\\bente\\anaconda3\\lib\\site-packages (from packaging->pytest>=3.4.0->pycountry-convert) (1.12.0)\n",
      "Requirement already satisfied: pyparsing>=2.0.2 in c:\\users\\bente\\anaconda3\\lib\\site-packages (from packaging->pytest>=3.4.0->pycountry-convert) (2.4.6)\n",
      "Requirement already satisfied: typing-extensions>=3.6.4; python_version < \"3.8\" in c:\\users\\bente\\anaconda3\\lib\\site-packages (from importlib-metadata>=0.12->pytest>=3.4.0->pycountry-convert) (3.10.0.2)\n",
      "Requirement already satisfied: zipp>=0.5 in c:\\users\\bente\\anaconda3\\lib\\site-packages (from importlib-metadata>=0.12->pytest>=3.4.0->pycountry-convert) (3.8.0)\n",
      "Collecting tomli; python_full_version <= \"3.11.0a6\" and extra == \"toml\"\n",
      "  Using cached tomli-2.0.1-py3-none-any.whl (12 kB)\n",
      "Building wheels for collected packages: pycountry\n",
      "  Building wheel for pycountry (PEP 517): started\n",
      "  Building wheel for pycountry (PEP 517): finished with status 'done'\n",
      "  Created wheel for pycountry: filename=pycountry-22.3.5-py2.py3-none-any.whl size=10681896 sha256=3ddc94d952d02cac9e2883280d924aae7ac221021d18530fb6f932d3e7c13810\n",
      "  Stored in directory: c:\\users\\bente\\appdata\\local\\pip\\cache\\wheels\\0e\\06\\e8\\7ee176e95ea9a8a8c3b3afcb1869f20adbd42413d4611c6eb4\n",
      "Successfully built pycountry\n",
      "Installing collected packages: pprintpp, pytest-mock, tomli, coverage, pytest-cov, repoze.lru, pycountry, pycountry-convert\n",
      "Successfully installed coverage-7.2.6 pprintpp-0.4.0 pycountry-22.3.5 pycountry-convert-0.7.2 pytest-cov-4.1.0 pytest-mock-3.10.0 repoze.lru-0.7 tomli-2.0.1\n"
     ]
    },
    {
     "name": "stderr",
     "output_type": "stream",
     "text": [
      "ERROR: pytest-astropy 0.8.0 requires pytest-filter-subpackage>=0.1, which is not installed.\n"
     ]
    }
   ],
   "source": [
    "!pip install pycountry-convert"
   ]
  },
  {
   "cell_type": "code",
   "execution_count": 53,
   "metadata": {},
   "outputs": [
    {
     "data": {
      "text/html": [
       "<div>\n",
       "<style scoped>\n",
       "    .dataframe tbody tr th:only-of-type {\n",
       "        vertical-align: middle;\n",
       "    }\n",
       "\n",
       "    .dataframe tbody tr th {\n",
       "        vertical-align: top;\n",
       "    }\n",
       "\n",
       "    .dataframe thead th {\n",
       "        text-align: right;\n",
       "    }\n",
       "</style>\n",
       "<table border=\"1\" class=\"dataframe\">\n",
       "  <thead>\n",
       "    <tr style=\"text-align: right;\">\n",
       "      <th></th>\n",
       "      <th>date</th>\n",
       "      <th>team</th>\n",
       "      <th>year</th>\n",
       "      <th>continent</th>\n",
       "    </tr>\n",
       "  </thead>\n",
       "  <tbody>\n",
       "    <tr>\n",
       "      <th>0</th>\n",
       "      <td>1969-11-01</td>\n",
       "      <td>Italy</td>\n",
       "      <td>1969</td>\n",
       "      <td>Europe</td>\n",
       "    </tr>\n",
       "    <tr>\n",
       "      <th>1</th>\n",
       "      <td>1969-11-01</td>\n",
       "      <td>Denmark</td>\n",
       "      <td>1969</td>\n",
       "      <td>Europe</td>\n",
       "    </tr>\n",
       "    <tr>\n",
       "      <th>2</th>\n",
       "      <td>1969-11-02</td>\n",
       "      <td>England</td>\n",
       "      <td>1969</td>\n",
       "      <td>Unknown</td>\n",
       "    </tr>\n",
       "    <tr>\n",
       "      <th>3</th>\n",
       "      <td>1969-11-02</td>\n",
       "      <td>Italy</td>\n",
       "      <td>1969</td>\n",
       "      <td>Europe</td>\n",
       "    </tr>\n",
       "    <tr>\n",
       "      <th>4</th>\n",
       "      <td>1975-08-25</td>\n",
       "      <td>Thailand</td>\n",
       "      <td>1975</td>\n",
       "      <td>Asia</td>\n",
       "    </tr>\n",
       "    <tr>\n",
       "      <th>5</th>\n",
       "      <td>1975-08-25</td>\n",
       "      <td>Hong Kong</td>\n",
       "      <td>1975</td>\n",
       "      <td>Asia</td>\n",
       "    </tr>\n",
       "    <tr>\n",
       "      <th>6</th>\n",
       "      <td>1975-08-27</td>\n",
       "      <td>Thailand</td>\n",
       "      <td>1975</td>\n",
       "      <td>Asia</td>\n",
       "    </tr>\n",
       "    <tr>\n",
       "      <th>7</th>\n",
       "      <td>1975-08-27</td>\n",
       "      <td>New Zealand</td>\n",
       "      <td>1975</td>\n",
       "      <td>Oceania</td>\n",
       "    </tr>\n",
       "    <tr>\n",
       "      <th>8</th>\n",
       "      <td>1975-08-29</td>\n",
       "      <td>Australia</td>\n",
       "      <td>1975</td>\n",
       "      <td>Oceania</td>\n",
       "    </tr>\n",
       "    <tr>\n",
       "      <th>9</th>\n",
       "      <td>1975-08-29</td>\n",
       "      <td>Hong Kong</td>\n",
       "      <td>1975</td>\n",
       "      <td>Asia</td>\n",
       "    </tr>\n",
       "    <tr>\n",
       "      <th>10</th>\n",
       "      <td>1975-08-31</td>\n",
       "      <td>New Zealand</td>\n",
       "      <td>1975</td>\n",
       "      <td>Oceania</td>\n",
       "    </tr>\n",
       "    <tr>\n",
       "      <th>11</th>\n",
       "      <td>1975-08-31</td>\n",
       "      <td>Thailand</td>\n",
       "      <td>1975</td>\n",
       "      <td>Asia</td>\n",
       "    </tr>\n",
       "    <tr>\n",
       "      <th>12</th>\n",
       "      <td>1975-09-02</td>\n",
       "      <td>Australia</td>\n",
       "      <td>1975</td>\n",
       "      <td>Oceania</td>\n",
       "    </tr>\n",
       "    <tr>\n",
       "      <th>13</th>\n",
       "      <td>1975-09-02</td>\n",
       "      <td>New Zealand</td>\n",
       "      <td>1975</td>\n",
       "      <td>Oceania</td>\n",
       "    </tr>\n",
       "    <tr>\n",
       "      <th>14</th>\n",
       "      <td>1977-08-02</td>\n",
       "      <td>Taiwan</td>\n",
       "      <td>1977</td>\n",
       "      <td>Asia</td>\n",
       "    </tr>\n",
       "    <tr>\n",
       "      <th>15</th>\n",
       "      <td>1977-08-03</td>\n",
       "      <td>Thailand</td>\n",
       "      <td>1977</td>\n",
       "      <td>Asia</td>\n",
       "    </tr>\n",
       "    <tr>\n",
       "      <th>16</th>\n",
       "      <td>1977-08-05</td>\n",
       "      <td>Indonesia</td>\n",
       "      <td>1977</td>\n",
       "      <td>Asia</td>\n",
       "    </tr>\n",
       "    <tr>\n",
       "      <th>17</th>\n",
       "      <td>1977-08-05</td>\n",
       "      <td>Thailand</td>\n",
       "      <td>1977</td>\n",
       "      <td>Asia</td>\n",
       "    </tr>\n",
       "    <tr>\n",
       "      <th>18</th>\n",
       "      <td>1977-08-07</td>\n",
       "      <td>Taiwan</td>\n",
       "      <td>1977</td>\n",
       "      <td>Asia</td>\n",
       "    </tr>\n",
       "    <tr>\n",
       "      <th>19</th>\n",
       "      <td>1977-08-07</td>\n",
       "      <td>Singapore</td>\n",
       "      <td>1977</td>\n",
       "      <td>Asia</td>\n",
       "    </tr>\n",
       "  </tbody>\n",
       "</table>\n",
       "</div>"
      ],
      "text/plain": [
       "         date         team  year continent\n",
       "0  1969-11-01        Italy  1969    Europe\n",
       "1  1969-11-01      Denmark  1969    Europe\n",
       "2  1969-11-02      England  1969   Unknown\n",
       "3  1969-11-02        Italy  1969    Europe\n",
       "4  1975-08-25     Thailand  1975      Asia\n",
       "5  1975-08-25    Hong Kong  1975      Asia\n",
       "6  1975-08-27     Thailand  1975      Asia\n",
       "7  1975-08-27  New Zealand  1975   Oceania\n",
       "8  1975-08-29    Australia  1975   Oceania\n",
       "9  1975-08-29    Hong Kong  1975      Asia\n",
       "10 1975-08-31  New Zealand  1975   Oceania\n",
       "11 1975-08-31     Thailand  1975      Asia\n",
       "12 1975-09-02    Australia  1975   Oceania\n",
       "13 1975-09-02  New Zealand  1975   Oceania\n",
       "14 1977-08-02       Taiwan  1977      Asia\n",
       "15 1977-08-03     Thailand  1977      Asia\n",
       "16 1977-08-05    Indonesia  1977      Asia\n",
       "17 1977-08-05     Thailand  1977      Asia\n",
       "18 1977-08-07       Taiwan  1977      Asia\n",
       "19 1977-08-07    Singapore  1977      Asia"
      ]
     },
     "execution_count": 53,
     "metadata": {},
     "output_type": "execute_result"
    }
   ],
   "source": [
    "import pycountry_convert as pc\n",
    "\n",
    "def country_to_continent(country_name):\n",
    "    try:\n",
    "        country_alpha2 = pc.country_name_to_country_alpha2(country_name)\n",
    "        country_continent_code = pc.country_alpha2_to_continent_code(country_alpha2)\n",
    "        country_continent_name = pc.convert_continent_code_to_continent_name(country_continent_code)\n",
    "        return country_continent_name\n",
    "    except(KeyError):\n",
    "        return \"Unknown\"\n",
    "        \n",
    "\n",
    "df_teams[\"continent\"] = df_teams[\"team\"].apply(country_to_continent)\n",
    "df_teams.head(20)"
   ]
  },
  {
   "cell_type": "markdown",
   "metadata": {},
   "source": [
    "### Teams by continent"
   ]
  },
  {
   "cell_type": "code",
   "execution_count": 67,
   "metadata": {
    "scrolled": true
   },
   "outputs": [
    {
     "data": {
      "text/html": [
       "<div>\n",
       "<style scoped>\n",
       "    .dataframe tbody tr th:only-of-type {\n",
       "        vertical-align: middle;\n",
       "    }\n",
       "\n",
       "    .dataframe tbody tr th {\n",
       "        vertical-align: top;\n",
       "    }\n",
       "\n",
       "    .dataframe thead th {\n",
       "        text-align: right;\n",
       "    }\n",
       "</style>\n",
       "<table border=\"1\" class=\"dataframe\">\n",
       "  <thead>\n",
       "    <tr style=\"text-align: right;\">\n",
       "      <th></th>\n",
       "      <th>year</th>\n",
       "      <th>continent</th>\n",
       "      <th>count</th>\n",
       "    </tr>\n",
       "  </thead>\n",
       "  <tbody>\n",
       "    <tr>\n",
       "      <th>0</th>\n",
       "      <td>1969</td>\n",
       "      <td>Europe</td>\n",
       "      <td>6</td>\n",
       "    </tr>\n",
       "    <tr>\n",
       "      <th>1</th>\n",
       "      <td>1969</td>\n",
       "      <td>Unknown</td>\n",
       "      <td>2</td>\n",
       "    </tr>\n",
       "    <tr>\n",
       "      <th>2</th>\n",
       "      <td>1975</td>\n",
       "      <td>Asia</td>\n",
       "      <td>12</td>\n",
       "    </tr>\n",
       "    <tr>\n",
       "      <th>3</th>\n",
       "      <td>1975</td>\n",
       "      <td>Oceania</td>\n",
       "      <td>8</td>\n",
       "    </tr>\n",
       "    <tr>\n",
       "      <th>4</th>\n",
       "      <td>1977</td>\n",
       "      <td>Asia</td>\n",
       "      <td>20</td>\n",
       "    </tr>\n",
       "  </tbody>\n",
       "</table>\n",
       "</div>"
      ],
      "text/plain": [
       "   year continent  count\n",
       "0  1969    Europe      6\n",
       "1  1969   Unknown      2\n",
       "2  1975      Asia     12\n",
       "3  1975   Oceania      8\n",
       "4  1977      Asia     20"
      ]
     },
     "execution_count": 67,
     "metadata": {},
     "output_type": "execute_result"
    }
   ],
   "source": [
    "teams_by_continent = df_teams.groupby([\"year\", \"continent\"])[\"team\"].nunique()\n",
    "teams_by_continent.head()\n",
    "data = (df_teams.groupby([pd.Grouper(key='year')\n",
    "                    'continent'])\n",
    "          .agg(count=('continent','count'))\n",
    "          .reset_index()\n",
    "       )\n",
    "data.head()"
   ]
  },
  {
   "cell_type": "code",
   "execution_count": 68,
   "metadata": {},
   "outputs": [
    {
     "data": {
      "text/plain": [
       "<AxesSubplot:xlabel='year', ylabel='count'>"
      ]
     },
     "execution_count": 68,
     "metadata": {},
     "output_type": "execute_result"
    },
    {
     "data": {
      "image/png": "[encoded data removed]",
      "text/plain": [
       "<Figure size 432x288 with 1 Axes>"
      ]
     },
     "metadata": {
      "needs_background": "light"
     },
     "output_type": "display_data"
    }
   ],
   "source": [
    "sns.lineplot(x='year', y='count', data=data, hue='continent')"
   ]
  },
  {
   "cell_type": "markdown",
   "metadata": {},
   "source": [
    "### Visualization on maps"
   ]
  },
  {
   "cell_type": "code",
   "execution_count": 54,
   "metadata": {},
   "outputs": [
    {
     "name": "stdout",
     "output_type": "stream",
     "text": [
      "Collecting geopy\n",
      "  Downloading geopy-2.3.0-py3-none-any.whl (119 kB)\n",
      "Collecting geographiclib<3,>=1.52\n",
      "  Downloading geographiclib-2.0-py3-none-any.whl (40 kB)\n",
      "Installing collected packages: geographiclib, geopy\n",
      "Successfully installed geographiclib-2.0 geopy-2.3.0\n"
     ]
    }
   ],
   "source": [
    "!pip install geopy"
   ]
  },
  {
   "cell_type": "code",
   "execution_count": 55,
   "metadata": {
    "scrolled": false
   },
   "outputs": [
    {
     "name": "stderr",
     "output_type": "stream",
     "text": [
      "C:\\Users\\Bente\\anaconda3\\lib\\site-packages\\requests\\__init__.py:91: RequestsDependencyWarning: urllib3 (1.26.12) or chardet (3.0.4) doesn't match a supported version!\n",
      "  RequestsDependencyWarning)\n"
     ]
    },
    {
     "name": "stdout",
     "output_type": "stream",
     "text": [
      "administrative\n",
      "Deutschland\n",
      "51 9m 49.743s N, 10 26m 52.1927s E\n",
      "10.4478313\n",
      "51.1638175\n"
     ]
    }
   ],
   "source": [
    "from geopy.geocoders import Nominatim\n",
    "\n",
    "geocoder = Nominatim(user_agent=\"CSH Project\")\n",
    "\n",
    "place = geocoder.geocode(\"Germany\")\n",
    "print(place.raw[\"type\"])\n",
    "print(place)\n",
    "print(place.point)\n",
    "print(place.longitude)\n",
    "print(place.latitude)\n"
   ]
  },
  {
   "cell_type": "code",
   "execution_count": 69,
   "metadata": {
    "collapsed": true
   },
   "outputs": [
    {
     "name": "stdout",
     "output_type": "stream",
     "text": [
      "Collecting geopandas\n",
      "  Downloading geopandas-0.10.2-py2.py3-none-any.whl (1.0 MB)\n",
      "Requirement already satisfied: pandas>=0.25.0 in c:\\users\\bente\\anaconda3\\lib\\site-packages (from geopandas) (1.3.5)\n",
      "Collecting shapely>=1.6\n",
      "  Downloading shapely-2.0.1-cp37-cp37m-win_amd64.whl (1.4 MB)\n",
      "Collecting fiona>=1.8\n",
      "  Downloading Fiona-1.9.4.post1-cp37-cp37m-win_amd64.whl (22.7 MB)\n",
      "Collecting pyproj>=2.2.0\n",
      "  Downloading pyproj-3.2.1-cp37-cp37m-win_amd64.whl (6.2 MB)\n",
      "Requirement already satisfied: pytz>=2017.3 in c:\\users\\bente\\anaconda3\\lib\\site-packages (from pandas>=0.25.0->geopandas) (2019.3)\n",
      "Requirement already satisfied: python-dateutil>=2.7.3 in c:\\users\\bente\\anaconda3\\lib\\site-packages (from pandas>=0.25.0->geopandas) (2.8.1)\n",
      "Requirement already satisfied: numpy>=1.17.3; platform_machine != \"aarch64\" and platform_machine != \"arm64\" and python_version < \"3.10\" in c:\\users\\bente\\anaconda3\\lib\\site-packages (from pandas>=0.25.0->geopandas) (1.18.1)\n",
      "Collecting click~=8.0\n",
      "  Using cached click-8.1.3-py3-none-any.whl (96 kB)\n",
      "Requirement already satisfied: certifi in c:\\users\\bente\\anaconda3\\lib\\site-packages (from fiona>=1.8->geopandas) (2019.11.28)\n",
      "Requirement already satisfied: importlib-metadata; python_version < \"3.10\" in c:\\users\\bente\\anaconda3\\lib\\site-packages (from fiona>=1.8->geopandas) (4.12.0)\n",
      "Requirement already satisfied: attrs>=19.2.0 in c:\\users\\bente\\anaconda3\\lib\\site-packages (from fiona>=1.8->geopandas) (19.3.0)\n",
      "Requirement already satisfied: six in c:\\users\\bente\\anaconda3\\lib\\site-packages (from fiona>=1.8->geopandas) (1.12.0)\n",
      "Collecting cligj>=0.5\n",
      "  Downloading cligj-0.7.2-py3-none-any.whl (7.1 kB)\n",
      "Collecting click-plugins>=1.0\n",
      "  Downloading click_plugins-1.1.1-py2.py3-none-any.whl (7.5 kB)\n",
      "Requirement already satisfied: colorama; platform_system == \"Windows\" in c:\\users\\bente\\anaconda3\\lib\\site-packages (from click~=8.0->fiona>=1.8->geopandas) (0.4.3)\n",
      "Requirement already satisfied: zipp>=0.5 in c:\\users\\bente\\anaconda3\\lib\\site-packages (from importlib-metadata; python_version < \"3.10\"->fiona>=1.8->geopandas) (3.8.0)\n",
      "Requirement already satisfied: typing-extensions>=3.6.4; python_version < \"3.8\" in c:\\users\\bente\\anaconda3\\lib\\site-packages (from importlib-metadata; python_version < \"3.10\"->fiona>=1.8->geopandas) (3.10.0.2)\n",
      "Installing collected packages: shapely, click, cligj, click-plugins, fiona, pyproj, geopandas\n",
      "  Attempting uninstall: click\n",
      "    Found existing installation: Click 7.0\n",
      "    Uninstalling Click-7.0:\n",
      "      Successfully uninstalled Click-7.0\n",
      "Successfully installed click-8.1.3 click-plugins-1.1.1 cligj-0.7.2 fiona-1.9.4.post1 geopandas-0.10.2 pyproj-3.2.1 shapely-2.0.1\n"
     ]
    },
    {
     "name": "stderr",
     "output_type": "stream",
     "text": [
      "ERROR: streamlit 1.3.1 has requirement click<8.0,>=7.0, but you'll have click 8.1.3 which is incompatible.\n"
     ]
    }
   ],
   "source": [
    "!pip install geopandas"
   ]
  },
  {
   "cell_type": "markdown",
   "metadata": {},
   "source": [
    "Where to get the polygon of the country?"
   ]
  },
  {
   "cell_type": "code",
   "execution_count": 71,
   "metadata": {},
   "outputs": [],
   "source": [
    "import geopandas as gpd\n",
    "country_df = gpd.read_file('geodata/countries.geojson')"
   ]
  },
  {
   "cell_type": "code",
   "execution_count": 73,
   "metadata": {},
   "outputs": [
    {
     "name": "stderr",
     "output_type": "stream",
     "text": [
      "C:\\Users\\Bente\\anaconda3\\lib\\site-packages\\geopandas\\plotting.py:51: ShapelyDeprecationWarning: The 'type' attribute is deprecated, and will be removed in the future. You can use the 'geom_type' attribute instead.\n",
      "  if geom is not None and geom.type.startswith(prefix) and not geom.is_empty:\n"
     ]
    },
    {
     "data": {
      "text/plain": [
       "<AxesSubplot:>"
      ]
     },
     "execution_count": 73,
     "metadata": {},
     "output_type": "execute_result"
    },
    {
     "data": {
      "image/png": "[encoded data removed]",
      "text/plain": [
       "<Figure size 432x288 with 1 Axes>"
      ]
     },
     "metadata": {
      "needs_background": "light"
     },
     "output_type": "display_data"
    }
   ],
   "source": [
    "country_df.head()\n",
    "country_df[country_df.ADMIN==\"Germany\"].plot()"
   ]
  }
 ],
 "metadata": {
  "kernelspec": {
   "display_name": "Python 3",
   "language": "python",
   "name": "python3"
  },
  "language_info": {
   "codemirror_mode": {
    "name": "ipython",
    "version": 3
   },
   "file_extension": ".py",
   "mimetype": "text/x-python",
   "name": "python",
   "nbconvert_exporter": "python",
   "pygments_lexer": "ipython3",
   "version": "3.7.6"
  }
 },
 "nbformat": 4,
 "nbformat_minor": 4
}
